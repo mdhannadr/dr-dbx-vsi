{
 "cells": [
  {
   "cell_type": "code",
   "execution_count": 0,
   "metadata": {
    "application/vnd.databricks.v1+cell": {
     "cellMetadata": {},
     "inputWidgets": {},
     "nuid": "b6b5c24f-cc4b-46e9-ba03-2e406c5001ea",
     "showTitle": false,
     "title": ""
    }
   },
   "outputs": [],
   "source": [
    "%%bash\n",
    "pip install langchain==0.0.244 datarobotx==0.1.14 datarobot-drum langchain-community databricks-vectorsearch databricks"
   ]
  },
  {
   "cell_type": "code",
   "execution_count": 0,
   "metadata": {
    "application/vnd.databricks.v1+cell": {
     "cellMetadata": {
      "byteLimit": 2048000,
      "rowLimit": 10000
     },
     "inputWidgets": {},
     "nuid": "80e29efa-adb0-4930-a3f9-df6515d34772",
     "showTitle": false,
     "title": ""
    }
   },
   "outputs": [],
   "source": [
    "def load_model(input_dir):\n",
    "    \"\"\"Custom model hook for loading our knowledge base.\"\"\"\n",
    "    import os\n",
    "\n",
    "    import datarobot_drum as drum\n",
    "    from databricks.vector_search.client import VectorSearchClient\n",
    "    DBX_PAT = \"YOUR_DBX_PAT\"\n",
    "    ENDPOINT_NAME = \"YOUR_VSI_ENDPOINT_NAME\"\n",
    "    INDEX_NAME = \"YOUR_VSI_NAME\"\n",
    "\n",
    "    vsc = VectorSearchClient(\n",
    "        workspace_url=\"https://ohio.cloud.databricks.com\", personal_access_token=DBX_PAT,\n",
    "    )\n",
    "    index = vsc.get_index(\n",
    "        endpoint_name=ENDPOINT_NAME, index_name=INDEX_NAME\n",
    "    )\n",
    "    return index\n",
    "\n",
    "\n",
    "def score_unstructured(model, data, query, **kwargs) -> str:\n",
    "    \"\"\"Custom model hook for making completions with our knowledge base.\n",
    "\n",
    "    datarobot-user-models (DRUM) handles loading the model and calling\n",
    "    this function with the appropriate parameters.\n",
    "    \"\"\"\n",
    "    import json\n",
    "\n",
    "    from langchain.chains import ConversationalRetrievalChain\n",
    "    from langchain.chat_models import AzureChatOpenAI\n",
    "    from langchain_community.vectorstores import DatabricksVectorSearch\n",
    "\n",
    "    try:\n",
    "        index = model\n",
    "        data_dict = json.loads(data)\n",
    "\n",
    "        dvs = DatabricksVectorSearch(index)\n",
    "        documents = dvs.similarity_search(data_dict[\"question\"])\n",
    "        relevant_text_list = [doc.page_content for doc in documents]\n",
    "        rv = {\"relevant\": relevant_text_list}\n",
    "    except Exception as e:\n",
    "        rv = {\"error\": f\"{e.__class__.__name__}: {str(e)}\"}\n",
    "    return json.dumps(rv), {\"mimetype\": \"application/json\", \"charset\": \"utf8\"}"
   ]
  },
  {
   "cell_type": "code",
   "execution_count": 0,
   "metadata": {
    "application/vnd.databricks.v1+cell": {
     "cellMetadata": {},
     "inputWidgets": {},
     "nuid": "1e5eea31-2a6d-4e74-8c6a-e473062b2c87",
     "showTitle": false,
     "title": ""
    }
   },
   "outputs": [],
   "source": [
    "import datarobotx as drx\n",
    "\n",
    "drx.Context(\n",
    "    endpoint=\"https://app.datarobot.com/api/v2\",\n",
    "    token=\"YOUR_DR_API_TOKEN\",\n",
    ")"
   ]
  },
  {
   "cell_type": "code",
   "execution_count": 0,
   "metadata": {
    "application/vnd.databricks.v1+cell": {
     "cellMetadata": {
      "byteLimit": 2048000,
      "rowLimit": 10000
     },
     "inputWidgets": {},
     "nuid": "ef57377b-603b-483c-b51c-28395f8ba205",
     "showTitle": false,
     "title": ""
    }
   },
   "outputs": [
    {
     "output_type": "display_data",
     "data": {
      "application/vnd.jupyter.widget-view+json": {
       "model_id": "178a94ba78b24c689d7c47881f0ebc89",
       "version_major": 2,
       "version_minor": 0
      },
      "text/plain": [
       "VBox()"
      ]
     },
     "metadata": {},
     "output_type": "display_data"
    },
    {
     "output_type": "display_data",
     "data": {
      "application/vnd.jupyter.widget-view+json": {
       "model_id": "f05075412ca540a3b015b9f81bd5c4ac",
       "version_major": 2,
       "version_minor": 0
      },
      "text/plain": [
       "VBox()"
      ]
     },
     "metadata": {},
     "output_type": "display_data"
    },
    {
     "output_type": "display_data",
     "data": {
      "application/vnd.jupyter.widget-view+json": {
       "model_id": "20492e8793694289a0cb7f0eefd8c6bd",
       "version_major": 2,
       "version_minor": 0
      },
      "text/plain": [
       "VBox()"
      ]
     },
     "metadata": {},
     "output_type": "display_data"
    }
   ],
   "source": [
    "deployment = drx.deploy(\n",
    "    model=None,\n",
    "    name=\"External DR KB with DBx\",\n",
    "    hooks={\"score_unstructured\": score_unstructured, \"load_model\": load_model},\n",
    "    extra_requirements=[\n",
    "        \"langchain\",\n",
    "        \"langchain-community\",\n",
    "        \"databricks-vectorsearch\",\n",
    "        \"databricks\",\n",
    "    ]\n",
    ")"
   ]
  },
  {
   "cell_type": "code",
   "execution_count": 0,
   "metadata": {
    "application/vnd.databricks.v1+cell": {
     "cellMetadata": {
      "byteLimit": 2048000,
      "rowLimit": 10000
     },
     "inputWidgets": {},
     "nuid": "48d65b81-6b0f-4996-8d6d-030c49d13ef3",
     "showTitle": false,
     "title": ""
    }
   },
   "outputs": [
    {
     "output_type": "display_data",
     "data": {
      "application/vnd.jupyter.widget-view+json": {
       "model_id": "28f7f0dee078448eb6b16c351844ccbf",
       "version_major": 2,
       "version_minor": 0
      },
      "text/plain": [
       "VBox()"
      ]
     },
     "metadata": {},
     "output_type": "display_data"
    },
    {
     "output_type": "execute_result",
     "data": {
      "text/plain": [
       "{'relevant': ['I donated because I care :)',\n",
       "  'I gave because I am so grateful to your organization for offering to match donations for my project, that I donated myself; to take advantage of the opportunity.  Thank you Donors Choose for being so generous and for doing good work. ',\n",
       "  'I donated because I want to support kids in the \\n',\n",
       "  'I gave because I asked you to give']}"
      ]
     },
     "execution_count": 7,
     "metadata": {},
     "output_type": "execute_result"
    }
   ],
   "source": [
    "deployment.predict_unstructured(\n",
    "    {\"question\": \"Why did you donate?\",}\n",
    ")"
   ]
  },
  {
   "cell_type": "code",
   "execution_count": 0,
   "metadata": {
    "application/vnd.databricks.v1+cell": {
     "cellMetadata": {},
     "inputWidgets": {},
     "nuid": "53cf24c9-f791-48df-8df1-49100002afd5",
     "showTitle": false,
     "title": ""
    }
   },
   "outputs": [],
   "source": []
  }
 ],
 "metadata": {
  "application/vnd.databricks.v1+notebook": {
   "dashboards": [],
   "language": "python",
   "notebookMetadata": {
    "pythonIndentUnit": 4
   },
   "notebookName": "dbx_vsi_integration",
   "widgets": {}
  }
 },
 "nbformat": 4,
 "nbformat_minor": 0
}
