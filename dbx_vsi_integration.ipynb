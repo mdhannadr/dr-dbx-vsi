{
 "cells": [
  {
   "cell_type": "code",
   "execution_count": 0,
   "metadata": {
    "application/vnd.databricks.v1+cell": {
     "cellMetadata": {
      "byteLimit": 2048000,
      "rowLimit": 10000
     },
     "inputWidgets": {},
     "nuid": "5d03544f-c7a4-4c67-9087-2b7ed75fb79c",
     "showTitle": false,
     "title": ""
    },
    "jupyter": {
     "outputs_hidden": true
    }
   },
   "outputs": [
    {
     "output_type": "stream",
     "name": "stdout",
     "output_type": "stream",
     "text": [
      "Requirement already satisfied: langchain==0.0.244 in /local_disk0/.ephemeral_nfs/envs/pythonEnv-263b2e8c-17c4-4653-a2f3-e1e84eca30c2/lib/python3.10/site-packages (0.0.244)\nRequirement already satisfied: datarobotx==0.1.14 in /local_disk0/.ephemeral_nfs/envs/pythonEnv-263b2e8c-17c4-4653-a2f3-e1e84eca30c2/lib/python3.10/site-packages (0.1.14)\nRequirement already satisfied: datarobot-drum in /local_disk0/.ephemeral_nfs/envs/pythonEnv-263b2e8c-17c4-4653-a2f3-e1e84eca30c2/lib/python3.10/site-packages (1.10.19)\nRequirement already satisfied: langchain-community in /local_disk0/.ephemeral_nfs/envs/pythonEnv-263b2e8c-17c4-4653-a2f3-e1e84eca30c2/lib/python3.10/site-packages (0.0.17)\nRequirement already satisfied: databricks-vectorsearch in /local_disk0/.ephemeral_nfs/envs/pythonEnv-263b2e8c-17c4-4653-a2f3-e1e84eca30c2/lib/python3.10/site-packages (0.22)\nCollecting databricks\n  Downloading databricks-0.2-py2.py3-none-any.whl (1.2 kB)\nRequirement already satisfied: langsmith<0.1.0,>=0.0.11 in /local_disk0/.ephemeral_nfs/envs/pythonEnv-263b2e8c-17c4-4653-a2f3-e1e84eca30c2/lib/python3.10/site-packages (from langchain==0.0.244) (0.0.86)\nRequirement already satisfied: async-timeout<5.0.0,>=4.0.0 in /databricks/python3/lib/python3.10/site-packages (from langchain==0.0.244) (4.0.3)\nRequirement already satisfied: requests<3,>=2 in /databricks/python3/lib/python3.10/site-packages (from langchain==0.0.244) (2.28.1)\nRequirement already satisfied: SQLAlchemy<3,>=1.4 in /databricks/python3/lib/python3.10/site-packages (from langchain==0.0.244) (1.4.39)\nRequirement already satisfied: dataclasses-json<0.6.0,>=0.5.7 in /databricks/python3/lib/python3.10/site-packages (from langchain==0.0.244) (0.5.14)\nRequirement already satisfied: aiohttp<4.0.0,>=3.8.3 in /databricks/python3/lib/python3.10/site-packages (from langchain==0.0.244) (3.8.5)\nRequirement already satisfied: numpy<2,>=1 in /databricks/python3/lib/python3.10/site-packages (from langchain==0.0.244) (1.21.5)\nRequirement already satisfied: openapi-schema-pydantic<2.0,>=1.2 in /databricks/python3/lib/python3.10/site-packages (from langchain==0.0.244) (1.2.4)\nRequirement already satisfied: tenacity<9.0.0,>=8.1.0 in /databricks/python3/lib/python3.10/site-packages (from langchain==0.0.244) (8.1.0)\nRequirement already satisfied: pydantic<2,>=1 in /databricks/python3/lib/python3.10/site-packages (from langchain==0.0.244) (1.10.6)\nRequirement already satisfied: numexpr<3.0.0,>=2.8.4 in /databricks/python3/lib/python3.10/site-packages (from langchain==0.0.244) (2.8.4)\nRequirement already satisfied: PyYAML>=5.4.1 in /local_disk0/.ephemeral_nfs/envs/pythonEnv-263b2e8c-17c4-4653-a2f3-e1e84eca30c2/lib/python3.10/site-packages (from langchain==0.0.244) (6.0.1)\nRequirement already satisfied: setuptools in /databricks/python3/lib/python3.10/site-packages (from datarobotx==0.1.14) (63.4.1)\nRequirement already satisfied: altair in /local_disk0/.ephemeral_nfs/envs/pythonEnv-263b2e8c-17c4-4653-a2f3-e1e84eca30c2/lib/python3.10/site-packages (from datarobotx==0.1.14) (5.2.0)\nRequirement already satisfied: termcolor in /databricks/python3/lib/python3.10/site-packages (from datarobotx==0.1.14) (2.3.0)\nRequirement already satisfied: datarobot-early-access in /local_disk0/.ephemeral_nfs/envs/pythonEnv-263b2e8c-17c4-4653-a2f3-e1e84eca30c2/lib/python3.10/site-packages (from datarobotx==0.1.14) (3.4.0.2024.2.5)\nRequirement already satisfied: urllib3<2.0.0 in /databricks/python3/lib/python3.10/site-packages (from datarobotx==0.1.14) (1.26.11)\nRequirement already satisfied: IPython in /databricks/python3/lib/python3.10/site-packages (from datarobotx==0.1.14) (8.10.0)\nRequirement already satisfied: tqdm in /databricks/python3/lib/python3.10/site-packages (from datarobotx==0.1.14) (4.64.1)\nRequirement already satisfied: pandas in /local_disk0/.ephemeral_nfs/envs/pythonEnv-263b2e8c-17c4-4653-a2f3-e1e84eca30c2/lib/python3.10/site-packages (from datarobotx==0.1.14) (2.0.3)\nRequirement already satisfied: names-generator in /local_disk0/.ephemeral_nfs/envs/pythonEnv-263b2e8c-17c4-4653-a2f3-e1e84eca30c2/lib/python3.10/site-packages (from datarobotx==0.1.14) (0.1.0)\nRequirement already satisfied: ipywidgets in /databricks/python3/lib/python3.10/site-packages (from datarobotx==0.1.14) (7.7.2)\nRequirement already satisfied: markupsafe<=2.1.3 in /local_disk0/.ephemeral_nfs/envs/pythonEnv-263b2e8c-17c4-4653-a2f3-e1e84eca30c2/lib/python3.10/site-packages (from datarobot-drum) (2.1.3)\nRequirement already satisfied: julia<=0.5.7 in /local_disk0/.ephemeral_nfs/envs/pythonEnv-263b2e8c-17c4-4653-a2f3-e1e84eca30c2/lib/python3.10/site-packages (from datarobot-drum) (0.5.7)\nRequirement already satisfied: pyarrow<=14.0.1,>=0.14.1 in /databricks/python3/lib/python3.10/site-packages (from datarobot-drum) (8.0.0)\nRequirement already satisfied: werkzeug==3.0.1 in /local_disk0/.ephemeral_nfs/envs/pythonEnv-263b2e8c-17c4-4653-a2f3-e1e84eca30c2/lib/python3.10/site-packages (from datarobot-drum) (3.0.1)\nRequirement already satisfied: flask<=2.2.5 in /databricks/python3/lib/python3.10/site-packages (from datarobot-drum) (1.1.2+db1)\nRequirement already satisfied: scipy<2,>=1.1 in /databricks/python3/lib/python3.10/site-packages (from datarobot-drum) (1.9.1)\nRequirement already satisfied: py4j~=0.10.9.0 in /local_disk0/.ephemeral_nfs/envs/pythonEnv-263b2e8c-17c4-4653-a2f3-e1e84eca30c2/lib/python3.10/site-packages (from datarobot-drum) (0.10.9.7)\nRequirement already satisfied: strictyaml==1.4.2 in /local_disk0/.ephemeral_nfs/envs/pythonEnv-263b2e8c-17c4-4653-a2f3-e1e84eca30c2/lib/python3.10/site-packages (from datarobot-drum) (1.4.2)\nRequirement already satisfied: docker<5.0.0,>=4.2.2 in /local_disk0/.ephemeral_nfs/envs/pythonEnv-263b2e8c-17c4-4653-a2f3-e1e84eca30c2/lib/python3.10/site-packages (from datarobot-drum) (4.4.4)\nRequirement already satisfied: Pillow<=10.2.0 in /databricks/python3/lib/python3.10/site-packages (from datarobot-drum) (9.2.0)\nRequirement already satisfied: mlpiper~=2.6.0 in /local_disk0/.ephemeral_nfs/envs/pythonEnv-263b2e8c-17c4-4653-a2f3-e1e84eca30c2/lib/python3.10/site-packages (from datarobot-drum) (2.6.0)\nRequirement already satisfied: jinja2>=3.0.0 in /local_disk0/.ephemeral_nfs/envs/pythonEnv-263b2e8c-17c4-4653-a2f3-e1e84eca30c2/lib/python3.10/site-packages (from datarobot-drum) (3.1.3)\nRequirement already satisfied: texttable in /local_disk0/.ephemeral_nfs/envs/pythonEnv-263b2e8c-17c4-4653-a2f3-e1e84eca30c2/lib/python3.10/site-packages (from datarobot-drum) (1.7.0)\nRequirement already satisfied: datarobot<4,>=3.1.0 in /local_disk0/.ephemeral_nfs/envs/pythonEnv-263b2e8c-17c4-4653-a2f3-e1e84eca30c2/lib/python3.10/site-packages (from datarobot-drum) (3.3.1)\nRequirement already satisfied: progress in /local_disk0/.ephemeral_nfs/envs/pythonEnv-263b2e8c-17c4-4653-a2f3-e1e84eca30c2/lib/python3.10/site-packages (from datarobot-drum) (1.6)\nRequirement already satisfied: memory-profiler<1.0.0 in /local_disk0/.ephemeral_nfs/envs/pythonEnv-263b2e8c-17c4-4653-a2f3-e1e84eca30c2/lib/python3.10/site-packages (from datarobot-drum) (0.61.0)\nRequirement already satisfied: packaging in /local_disk0/.ephemeral_nfs/envs/pythonEnv-263b2e8c-17c4-4653-a2f3-e1e84eca30c2/lib/python3.10/site-packages (from datarobot-drum) (23.2)\nRequirement already satisfied: argcomplete==1.11.1 in /local_disk0/.ephemeral_nfs/envs/pythonEnv-263b2e8c-17c4-4653-a2f3-e1e84eca30c2/lib/python3.10/site-packages (from datarobot-drum) (1.11.1)\nRequirement already satisfied: trafaret<2.2.0,>=2.0.0 in /local_disk0/.ephemeral_nfs/envs/pythonEnv-263b2e8c-17c4-4653-a2f3-e1e84eca30c2/lib/python3.10/site-packages (from datarobot-drum) (2.1.1)\nRequirement already satisfied: ruamel.yaml==0.17.4 in /local_disk0/.ephemeral_nfs/envs/pythonEnv-263b2e8c-17c4-4653-a2f3-e1e84eca30c2/lib/python3.10/site-packages (from strictyaml==1.4.2->datarobot-drum) (0.17.4)\nRequirement already satisfied: python-dateutil>=2.6.0 in /databricks/python3/lib/python3.10/site-packages (from strictyaml==1.4.2->datarobot-drum) (2.8.2)\nRequirement already satisfied: langchain-core<0.2,>=0.1.16 in /local_disk0/.ephemeral_nfs/envs/pythonEnv-263b2e8c-17c4-4653-a2f3-e1e84eca30c2/lib/python3.10/site-packages (from langchain-community) (0.1.18)\nRequirement already satisfied: protobuf<5,>=3.12.0 in /databricks/python3/lib/python3.10/site-packages (from databricks-vectorsearch) (3.19.4)\nRequirement already satisfied: mlflow-skinny<3,>=2.4.0 in /databricks/python3/lib/python3.10/site-packages (from databricks-vectorsearch) (2.5.0)\nRequirement already satisfied: aiosignal>=1.1.2 in /databricks/python3/lib/python3.10/site-packages (from aiohttp<4.0.0,>=3.8.3->langchain==0.0.244) (1.3.1)\nRequirement already satisfied: charset-normalizer<4.0,>=2.0 in /databricks/python3/lib/python3.10/site-packages (from aiohttp<4.0.0,>=3.8.3->langchain==0.0.244) (2.0.4)\nRequirement already satisfied: yarl<2.0,>=1.0 in /databricks/python3/lib/python3.10/site-packages (from aiohttp<4.0.0,>=3.8.3->langchain==0.0.244) (1.9.2)\nRequirement already satisfied: attrs>=17.3.0 in /databricks/python3/lib/python3.10/site-packages (from aiohttp<4.0.0,>=3.8.3->langchain==0.0.244) (21.4.0)\nRequirement already satisfied: multidict<7.0,>=4.5 in /databricks/python3/lib/python3.10/site-packages (from aiohttp<4.0.0,>=3.8.3->langchain==0.0.244) (6.0.4)\nRequirement already satisfied: frozenlist>=1.1.1 in /databricks/python3/lib/python3.10/site-packages (from aiohttp<4.0.0,>=3.8.3->langchain==0.0.244) (1.4.0)\nRequirement already satisfied: typing-inspect<1,>=0.4.0 in /databricks/python3/lib/python3.10/site-packages (from dataclasses-json<0.6.0,>=0.5.7->langchain==0.0.244) (0.9.0)\nRequirement already satisfied: marshmallow<4.0.0,>=3.18.0 in /databricks/python3/lib/python3.10/site-packages (from dataclasses-json<0.6.0,>=0.5.7->langchain==0.0.244) (3.20.1)\nRequirement already satisfied: requests-toolbelt>=0.6 in /local_disk0/.ephemeral_nfs/envs/pythonEnv-263b2e8c-17c4-4653-a2f3-e1e84eca30c2/lib/python3.10/site-packages (from datarobot<4,>=3.1.0->datarobot-drum) (1.0.0)\nRequirement already satisfied: typing-extensions<5,>=4.3.0 in /databricks/python3/lib/python3.10/site-packages (from datarobot<4,>=3.1.0->datarobot-drum) (4.3.0)\nRequirement already satisfied: strenum>=0.4.15 in /local_disk0/.ephemeral_nfs/envs/pythonEnv-263b2e8c-17c4-4653-a2f3-e1e84eca30c2/lib/python3.10/site-packages (from datarobot<4,>=3.1.0->datarobot-drum) (0.4.15)\nRequirement already satisfied: mypy-extensions<2,>=0.4.0 in /databricks/python3/lib/python3.10/site-packages (from datarobot<4,>=3.1.0->datarobot-drum) (0.4.3)\nRequirement already satisfied: websocket-client>=0.32.0 in /databricks/python3/lib/python3.10/site-packages (from docker<5.0.0,>=4.2.2->datarobot-drum) (0.58.0)\nRequirement already satisfied: six>=1.4.0 in /usr/lib/python3/dist-packages (from docker<5.0.0,>=4.2.2->datarobot-drum) (1.16.0)\nRequirement already satisfied: itsdangerous>=0.24 in /databricks/python3/lib/python3.10/site-packages (from flask<=2.2.5->datarobot-drum) (2.0.1)\nRequirement already satisfied: click>=5.1 in /databricks/python3/lib/python3.10/site-packages (from flask<=2.2.5->datarobot-drum) (8.0.4)\nRequirement already satisfied: anyio<5,>=3 in /databricks/python3/lib/python3.10/site-packages (from langchain-core<0.2,>=0.1.16->langchain-community) (3.5.0)\nRequirement already satisfied: jsonpatch<2.0,>=1.33 in /local_disk0/.ephemeral_nfs/envs/pythonEnv-263b2e8c-17c4-4653-a2f3-e1e84eca30c2/lib/python3.10/site-packages (from langchain-core<0.2,>=0.1.16->langchain-community) (1.33)\nRequirement already satisfied: psutil in /databricks/python3/lib/python3.10/site-packages (from memory-profiler<1.0.0->datarobot-drum) (5.9.0)\nRequirement already satisfied: cloudpickle<3 in /databricks/python3/lib/python3.10/site-packages (from mlflow-skinny<3,>=2.4.0->databricks-vectorsearch) (2.0.0)\nRequirement already satisfied: pytz<2024 in /databricks/python3/lib/python3.10/site-packages (from mlflow-skinny<3,>=2.4.0->databricks-vectorsearch) (2022.1)\nRequirement already satisfied: databricks-cli<1,>=0.8.7 in /databricks/python3/lib/python3.10/site-packages (from mlflow-skinny<3,>=2.4.0->databricks-vectorsearch) (0.17.7)\nRequirement already satisfied: entrypoints<1 in /databricks/python3/lib/python3.10/site-packages (from mlflow-skinny<3,>=2.4.0->databricks-vectorsearch) (0.4)\nRequirement already satisfied: importlib-metadata!=4.7.0,<7,>=3.7.0 in /databricks/python3/lib/python3.10/site-packages (from mlflow-skinny<3,>=2.4.0->databricks-vectorsearch) (4.11.3)\nRequirement already satisfied: sqlparse<1,>=0.4.0 in /databricks/python3/lib/python3.10/site-packages (from mlflow-skinny<3,>=2.4.0->databricks-vectorsearch) (0.4.2)\nRequirement already satisfied: gitpython<4,>=2.1.0 in /databricks/python3/lib/python3.10/site-packages (from mlflow-skinny<3,>=2.4.0->databricks-vectorsearch) (3.1.27)\nRequirement already satisfied: flask-cors in /local_disk0/.ephemeral_nfs/envs/pythonEnv-263b2e8c-17c4-4653-a2f3-e1e84eca30c2/lib/python3.10/site-packages (from mlpiper~=2.6.0->datarobot-drum) (4.0.0)\nRequirement already satisfied: future in /databricks/python3/lib/python3.10/site-packages (from mlpiper~=2.6.0->datarobot-drum) (0.18.2)\nRequirement already satisfied: tzdata>=2022.1 in /local_disk0/.ephemeral_nfs/envs/pythonEnv-263b2e8c-17c4-4653-a2f3-e1e84eca30c2/lib/python3.10/site-packages (from pandas->datarobotx==0.1.14) (2023.4)\nRequirement already satisfied: certifi>=2017.4.17 in /databricks/python3/lib/python3.10/site-packages (from requests<3,>=2->langchain==0.0.244) (2022.9.14)\nRequirement already satisfied: idna<4,>=2.5 in /databricks/python3/lib/python3.10/site-packages (from requests<3,>=2->langchain==0.0.244) (3.3)\nRequirement already satisfied: greenlet!=0.4.17 in /databricks/python3/lib/python3.10/site-packages (from SQLAlchemy<3,>=1.4->langchain==0.0.244) (1.1.1)\nRequirement already satisfied: jsonschema>=3.0 in /databricks/python3/lib/python3.10/site-packages (from altair->datarobotx==0.1.14) (4.16.0)\nRequirement already satisfied: toolz in /local_disk0/.ephemeral_nfs/envs/pythonEnv-263b2e8c-17c4-4653-a2f3-e1e84eca30c2/lib/python3.10/site-packages (from altair->datarobotx==0.1.14) (0.12.1)\nRequirement already satisfied: prompt-toolkit<3.1.0,>=3.0.30 in /databricks/python3/lib/python3.10/site-packages (from IPython->datarobotx==0.1.14) (3.0.36)\nRequirement already satisfied: pygments>=2.4.0 in /databricks/python3/lib/python3.10/site-packages (from IPython->datarobotx==0.1.14) (2.11.2)\nRequirement already satisfied: decorator in /databricks/python3/lib/python3.10/site-packages (from IPython->datarobotx==0.1.14) (5.1.1)\nRequirement already satisfied: stack-data in /databricks/python3/lib/python3.10/site-packages (from IPython->datarobotx==0.1.14) (0.6.2)\nRequirement already satisfied: jedi>=0.16 in /databricks/python3/lib/python3.10/site-packages (from IPython->datarobotx==0.1.14) (0.18.1)\nRequirement already satisfied: traitlets>=5 in /databricks/python3/lib/python3.10/site-packages (from IPython->datarobotx==0.1.14) (5.1.1)\nRequirement already satisfied: backcall in /databricks/python3/lib/python3.10/site-packages (from IPython->datarobotx==0.1.14) (0.2.0)\nRequirement already satisfied: pickleshare in /databricks/python3/lib/python3.10/site-packages (from IPython->datarobotx==0.1.14) (0.7.5)\nRequirement already satisfied: matplotlib-inline in /databricks/python3/lib/python3.10/site-packages (from IPython->datarobotx==0.1.14) (0.1.6)\nRequirement already satisfied: pexpect>4.3 in /databricks/python3/lib/python3.10/site-packages (from IPython->datarobotx==0.1.14) (4.8.0)\nRequirement already satisfied: ipython-genutils~=0.2.0 in /databricks/python3/lib/python3.10/site-packages (from ipywidgets->datarobotx==0.1.14) (0.2.0)\nRequirement already satisfied: ipykernel>=4.5.1 in /databricks/python3/lib/python3.10/site-packages (from ipywidgets->datarobotx==0.1.14) (6.17.1)\nRequirement already satisfied: widgetsnbextension~=3.6.0 in /databricks/python3/lib/python3.10/site-packages (from ipywidgets->datarobotx==0.1.14) (3.6.1)\nRequirement already satisfied: jupyterlab-widgets<3,>=1.0.0 in /databricks/python3/lib/python3.10/site-packages (from ipywidgets->datarobotx==0.1.14) (1.0.0)\nRequirement already satisfied: cmdkit>=2.1.2 in /local_disk0/.ephemeral_nfs/envs/pythonEnv-263b2e8c-17c4-4653-a2f3-e1e84eca30c2/lib/python3.10/site-packages (from names-generator->datarobotx==0.1.14) (2.7.4)\nRequirement already satisfied: sniffio>=1.1 in /databricks/python3/lib/python3.10/site-packages (from anyio<5,>=3->langchain-core<0.2,>=0.1.16->langchain-community) (1.2.0)\nRequirement already satisfied: toml<0.11.0,>=0.10.2 in /local_disk0/.ephemeral_nfs/envs/pythonEnv-263b2e8c-17c4-4653-a2f3-e1e84eca30c2/lib/python3.10/site-packages (from cmdkit>=2.1.2->names-generator->datarobotx==0.1.14) (0.10.2)\nRequirement already satisfied: oauthlib>=3.1.0 in /usr/lib/python3/dist-packages (from databricks-cli<1,>=0.8.7->mlflow-skinny<3,>=2.4.0->databricks-vectorsearch) (3.2.0)\nRequirement already satisfied: pyjwt>=1.7.0 in /usr/lib/python3/dist-packages (from databricks-cli<1,>=0.8.7->mlflow-skinny<3,>=2.4.0->databricks-vectorsearch) (2.3.0)\nRequirement already satisfied: tabulate>=0.7.7 in /databricks/python3/lib/python3.10/site-packages (from databricks-cli<1,>=0.8.7->mlflow-skinny<3,>=2.4.0->databricks-vectorsearch) (0.8.10)\nRequirement already satisfied: gitdb<5,>=4.0.1 in /databricks/python3/lib/python3.10/site-packages (from gitpython<4,>=2.1.0->mlflow-skinny<3,>=2.4.0->databricks-vectorsearch) (4.0.10)\nRequirement already satisfied: zipp>=0.5 in /databricks/python3/lib/python3.10/site-packages (from importlib-metadata!=4.7.0,<7,>=3.7.0->mlflow-skinny<3,>=2.4.0->databricks-vectorsearch) (3.8.0)\nRequirement already satisfied: pyzmq>=17 in /databricks/python3/lib/python3.10/site-packages (from ipykernel>=4.5.1->ipywidgets->datarobotx==0.1.14) (23.2.0)\nRequirement already satisfied: debugpy>=1.0 in /databricks/python3/lib/python3.10/site-packages (from ipykernel>=4.5.1->ipywidgets->datarobotx==0.1.14) (1.6.0)\nRequirement already satisfied: tornado>=6.1 in /databricks/python3/lib/python3.10/site-packages (from ipykernel>=4.5.1->ipywidgets->datarobotx==0.1.14) (6.1)\nRequirement already satisfied: jupyter-client>=6.1.12 in /databricks/python3/lib/python3.10/site-packages (from ipykernel>=4.5.1->ipywidgets->datarobotx==0.1.14) (7.3.4)\nRequirement already satisfied: nest-asyncio in /databricks/python3/lib/python3.10/site-packages (from ipykernel>=4.5.1->ipywidgets->datarobotx==0.1.14) (1.5.5)\nRequirement already satisfied: parso<0.9.0,>=0.8.0 in /databricks/python3/lib/python3.10/site-packages (from jedi>=0.16->IPython->datarobotx==0.1.14) (0.8.3)\nRequirement already satisfied: jsonpointer>=1.9 in /local_disk0/.ephemeral_nfs/envs/pythonEnv-263b2e8c-17c4-4653-a2f3-e1e84eca30c2/lib/python3.10/site-packages (from jsonpatch<2.0,>=1.33->langchain-core<0.2,>=0.1.16->langchain-community) (2.4)\nRequirement already satisfied: pyrsistent!=0.17.0,!=0.17.1,!=0.17.2,>=0.14.0 in /databricks/python3/lib/python3.10/site-packages (from jsonschema>=3.0->altair->datarobotx==0.1.14) (0.18.0)\nRequirement already satisfied: ptyprocess>=0.5 in /databricks/python3/lib/python3.10/site-packages (from pexpect>4.3->IPython->datarobotx==0.1.14) (0.7.0)\nRequirement already satisfied: wcwidth in /databricks/python3/lib/python3.10/site-packages (from prompt-toolkit<3.1.0,>=3.0.30->IPython->datarobotx==0.1.14) (0.2.5)\nRequirement already satisfied: notebook>=4.4.1 in /databricks/python3/lib/python3.10/site-packages (from widgetsnbextension~=3.6.0->ipywidgets->datarobotx==0.1.14) (6.4.12)\nRequirement already satisfied: asttokens>=2.1.0 in /databricks/python3/lib/python3.10/site-packages (from stack-data->IPython->datarobotx==0.1.14) (2.2.1)\nRequirement already satisfied: pure-eval in /databricks/python3/lib/python3.10/site-packages (from stack-data->IPython->datarobotx==0.1.14) (0.2.2)\nRequirement already satisfied: executing>=1.2.0 in /databricks/python3/lib/python3.10/site-packages (from stack-data->IPython->datarobotx==0.1.14) (1.2.0)\nRequirement already satisfied: smmap<6,>=3.0.1 in /databricks/python3/lib/python3.10/site-packages (from gitdb<5,>=4.0.1->gitpython<4,>=2.1.0->mlflow-skinny<3,>=2.4.0->databricks-vectorsearch) (5.0.0)\nRequirement already satisfied: jupyter-core>=4.9.2 in /databricks/python3/lib/python3.10/site-packages (from jupyter-client>=6.1.12->ipykernel>=4.5.1->ipywidgets->datarobotx==0.1.14) (4.11.2)\nRequirement already satisfied: Send2Trash>=1.8.0 in /databricks/python3/lib/python3.10/site-packages (from notebook>=4.4.1->widgetsnbextension~=3.6.0->ipywidgets->datarobotx==0.1.14) (1.8.0)\nRequirement already satisfied: terminado>=0.8.3 in /databricks/python3/lib/python3.10/site-packages (from notebook>=4.4.1->widgetsnbextension~=3.6.0->ipywidgets->datarobotx==0.1.14) (0.13.1)\nRequirement already satisfied: argon2-cffi in /databricks/python3/lib/python3.10/site-packages (from notebook>=4.4.1->widgetsnbextension~=3.6.0->ipywidgets->datarobotx==0.1.14) (21.3.0)\nRequirement already satisfied: prometheus-client in /databricks/python3/lib/python3.10/site-packages (from notebook>=4.4.1->widgetsnbextension~=3.6.0->ipywidgets->datarobotx==0.1.14) (0.14.1)\nRequirement already satisfied: nbformat in /databricks/python3/lib/python3.10/site-packages (from notebook>=4.4.1->widgetsnbextension~=3.6.0->ipywidgets->datarobotx==0.1.14) (5.5.0)\nRequirement already satisfied: nbconvert>=5 in /databricks/python3/lib/python3.10/site-packages (from notebook>=4.4.1->widgetsnbextension~=3.6.0->ipywidgets->datarobotx==0.1.14) (6.4.4)\nRequirement already satisfied: jupyterlab-pygments in /databricks/python3/lib/python3.10/site-packages (from nbconvert>=5->notebook>=4.4.1->widgetsnbextension~=3.6.0->ipywidgets->datarobotx==0.1.14) (0.1.2)\nRequirement already satisfied: pandocfilters>=1.4.1 in /databricks/python3/lib/python3.10/site-packages (from nbconvert>=5->notebook>=4.4.1->widgetsnbextension~=3.6.0->ipywidgets->datarobotx==0.1.14) (1.5.0)\nRequirement already satisfied: defusedxml in /databricks/python3/lib/python3.10/site-packages (from nbconvert>=5->notebook>=4.4.1->widgetsnbextension~=3.6.0->ipywidgets->datarobotx==0.1.14) (0.7.1)\nRequirement already satisfied: bleach in /databricks/python3/lib/python3.10/site-packages (from nbconvert>=5->notebook>=4.4.1->widgetsnbextension~=3.6.0->ipywidgets->datarobotx==0.1.14) (4.1.0)\nRequirement already satisfied: beautifulsoup4 in /databricks/python3/lib/python3.10/site-packages (from nbconvert>=5->notebook>=4.4.1->widgetsnbextension~=3.6.0->ipywidgets->datarobotx==0.1.14) (4.11.1)\nRequirement already satisfied: mistune<2,>=0.8.1 in /databricks/python3/lib/python3.10/site-packages (from nbconvert>=5->notebook>=4.4.1->widgetsnbextension~=3.6.0->ipywidgets->datarobotx==0.1.14) (0.8.4)\nRequirement already satisfied: nbclient<0.6.0,>=0.5.0 in /databricks/python3/lib/python3.10/site-packages (from nbconvert>=5->notebook>=4.4.1->widgetsnbextension~=3.6.0->ipywidgets->datarobotx==0.1.14) (0.5.13)\nRequirement already satisfied: testpath in /databricks/python3/lib/python3.10/site-packages (from nbconvert>=5->notebook>=4.4.1->widgetsnbextension~=3.6.0->ipywidgets->datarobotx==0.1.14) (0.6.0)\nRequirement already satisfied: fastjsonschema in /databricks/python3/lib/python3.10/site-packages (from nbformat->notebook>=4.4.1->widgetsnbextension~=3.6.0->ipywidgets->datarobotx==0.1.14) (2.18.0)\nRequirement already satisfied: argon2-cffi-bindings in /databricks/python3/lib/python3.10/site-packages (from argon2-cffi->notebook>=4.4.1->widgetsnbextension~=3.6.0->ipywidgets->datarobotx==0.1.14) (21.2.0)\nRequirement already satisfied: cffi>=1.0.1 in /databricks/python3/lib/python3.10/site-packages (from argon2-cffi-bindings->argon2-cffi->notebook>=4.4.1->widgetsnbextension~=3.6.0->ipywidgets->datarobotx==0.1.14) (1.15.1)\nRequirement already satisfied: soupsieve>1.2 in /databricks/python3/lib/python3.10/site-packages (from beautifulsoup4->nbconvert>=5->notebook>=4.4.1->widgetsnbextension~=3.6.0->ipywidgets->datarobotx==0.1.14) (2.3.1)\nRequirement already satisfied: webencodings in /databricks/python3/lib/python3.10/site-packages (from bleach->nbconvert>=5->notebook>=4.4.1->widgetsnbextension~=3.6.0->ipywidgets->datarobotx==0.1.14) (0.5.1)\nRequirement already satisfied: pycparser in /databricks/python3/lib/python3.10/site-packages (from cffi>=1.0.1->argon2-cffi-bindings->argon2-cffi->notebook>=4.4.1->widgetsnbextension~=3.6.0->ipywidgets->datarobotx==0.1.14) (2.21)\nInstalling collected packages: databricks\nSuccessfully installed databricks-0.2\n"
     ]
    },
    {
     "output_type": "stream",
     "name": "stderr",
     "output_type": "stream",
     "text": [
      "\n[notice] A new release of pip available: 22.2.2 -> 24.0\n[notice] To update, run: pip install --upgrade pip\n"
     ]
    }
   ],
   "source": [
    "%%bash\n",
    "pip install langchain==0.0.244 datarobotx==0.1.14 datarobot-drum langchain-community databricks-vectorsearch databricks"
   ]
  },
  {
   "cell_type": "code",
   "execution_count": 0,
   "metadata": {
    "application/vnd.databricks.v1+cell": {
     "cellMetadata": {
      "byteLimit": 2048000,
      "rowLimit": 10000
     },
     "inputWidgets": {},
     "nuid": "80e29efa-adb0-4930-a3f9-df6515d34772",
     "showTitle": false,
     "title": ""
    }
   },
   "outputs": [],
   "source": [
    "def load_model(input_dir):\n",
    "    \"\"\"Custom model hook for loading our knowledge base.\"\"\"\n",
    "    import os\n",
    "\n",
    "    import datarobot_drum as drum\n",
    "    from databricks.vector_search.client import VectorSearchClient\n",
    "    DBX_PAT = \"YOUR_DBX_PAT\"\n",
    "    ENDPOINT_NAME = \"YOUR_VSI_ENDPOINT_NAME\"\n",
    "    INDEX_NAME = \"YOUR_VSI_NAME\"\n",
    "\n",
    "    vsc = VectorSearchClient(\n",
    "        workspace_url=\"https://ohio.cloud.databricks.com\", personal_access_token=DBX_PAT,\n",
    "    )\n",
    "    index = vsc.get_index(\n",
    "        endpoint_name=ENDPOINT_NAME, index_name=INDEX_NAME\n",
    "    )\n",
    "    return index\n",
    "\n",
    "\n",
    "def score_unstructured(model, data, query, **kwargs) -> str:\n",
    "    \"\"\"Custom model hook for making completions with our knowledge base.\n",
    "\n",
    "    datarobot-user-models (DRUM) handles loading the model and calling\n",
    "    this function with the appropriate parameters.\n",
    "    \"\"\"\n",
    "    import json\n",
    "\n",
    "    from langchain.chains import ConversationalRetrievalChain\n",
    "    from langchain.chat_models import AzureChatOpenAI\n",
    "    from langchain_community.vectorstores import DatabricksVectorSearch\n",
    "\n",
    "    try:\n",
    "        index = model\n",
    "        data_dict = json.loads(data)\n",
    "\n",
    "        dvs = DatabricksVectorSearch(index)\n",
    "        documents = dvs.similarity_search(data_dict[\"question\"])\n",
    "        relevant_text_list = [doc.page_content for doc in documents]\n",
    "        rv = {\"relevant\": relevant_text_list}\n",
    "    except Exception as e:\n",
    "        rv = {\"error\": f\"{e.__class__.__name__}: {str(e)}\"}\n",
    "    return json.dumps(rv), {\"mimetype\": \"application/json\", \"charset\": \"utf8\"}"
   ]
  },
  {
   "cell_type": "code",
   "execution_count": 0,
   "metadata": {
    "application/vnd.databricks.v1+cell": {
     "cellMetadata": {
      "byteLimit": 2048000,
      "rowLimit": 10000
     },
     "inputWidgets": {},
     "nuid": "15426a5c-b855-4fd4-aa5d-731f7b14c126",
     "showTitle": false,
     "title": ""
    },
    "jupyter": {
     "outputs_hidden": true
    }
   },
   "outputs": [
    {
     "output_type": "execute_result",
     "data": {
      "text/plain": [
       "{'token': 'NjBmOTkzMWRkNzYyNTBlYTVhMGI0M2MzOnJWWS9kV3prZnBPUFd1Z09CUnoyN1VZQmVXZFdCbFU5RmVXN1hSaTFjRkk9', 'endpoint': 'https://app.datarobot.com/api/v2', 'pred_server_id': '', 'enable_api_consumer_tracking': True, 'trace_context': None}"
      ]
     },
     "execution_count": 4,
     "metadata": {},
     "output_type": "execute_result"
    }
   ],
   "source": [
    "import datarobotx as drx\n",
    "\n",
    "drx.Context(\n",
    "    endpoint=\"https://app.datarobot.com/api/v2\",\n",
    "    token=\"YOUR_DR_API_TOKEN\",\n",
    ")"
   ]
  },
  {
   "cell_type": "code",
   "execution_count": 0,
   "metadata": {
    "application/vnd.databricks.v1+cell": {
     "cellMetadata": {
      "byteLimit": 2048000,
      "rowLimit": 10000
     },
     "inputWidgets": {},
     "nuid": "ef57377b-603b-483c-b51c-28395f8ba205",
     "showTitle": false,
     "title": ""
    }
   },
   "outputs": [
    {
     "output_type": "display_data",
     "data": {
      "application/vnd.jupyter.widget-view+json": {
       "model_id": "178a94ba78b24c689d7c47881f0ebc89",
       "version_major": 2,
       "version_minor": 0
      },
      "text/plain": [
       "VBox()"
      ]
     },
     "metadata": {},
     "output_type": "display_data"
    },
    {
     "output_type": "display_data",
     "data": {
      "application/vnd.jupyter.widget-view+json": {
       "model_id": "f05075412ca540a3b015b9f81bd5c4ac",
       "version_major": 2,
       "version_minor": 0
      },
      "text/plain": [
       "VBox()"
      ]
     },
     "metadata": {},
     "output_type": "display_data"
    },
    {
     "output_type": "display_data",
     "data": {
      "application/vnd.jupyter.widget-view+json": {
       "model_id": "20492e8793694289a0cb7f0eefd8c6bd",
       "version_major": 2,
       "version_minor": 0
      },
      "text/plain": [
       "VBox()"
      ]
     },
     "metadata": {},
     "output_type": "display_data"
    }
   ],
   "source": [
    "deployment = drx.deploy(\n",
    "    model=None,\n",
    "    name=\"External DR KB with DBx\",\n",
    "    hooks={\"score_unstructured\": score_unstructured, \"load_model\": load_model},\n",
    "    extra_requirements=[\n",
    "        \"langchain\",\n",
    "        \"langchain-community\",\n",
    "        \"databricks-vectorsearch\",\n",
    "        \"databricks\",\n",
    "    ]\n",
    ")"
   ]
  },
  {
   "cell_type": "code",
   "execution_count": 0,
   "metadata": {
    "application/vnd.databricks.v1+cell": {
     "cellMetadata": {
      "byteLimit": 2048000,
      "rowLimit": 10000
     },
     "inputWidgets": {},
     "nuid": "48d65b81-6b0f-4996-8d6d-030c49d13ef3",
     "showTitle": false,
     "title": ""
    }
   },
   "outputs": [
    {
     "output_type": "display_data",
     "data": {
      "application/vnd.jupyter.widget-view+json": {
       "model_id": "28f7f0dee078448eb6b16c351844ccbf",
       "version_major": 2,
       "version_minor": 0
      },
      "text/plain": [
       "VBox()"
      ]
     },
     "metadata": {},
     "output_type": "display_data"
    },
    {
     "output_type": "execute_result",
     "data": {
      "text/plain": [
       "{'relevant': ['I donated because I care :)',\n",
       "  'I gave because I am so grateful to your organization for offering to match donations for my project, that I donated myself; to take advantage of the opportunity.  Thank you Donors Choose for being so generous and for doing good work. ',\n",
       "  'I donated because I want to support kids in the \\n',\n",
       "  'I gave because I asked you to give']}"
      ]
     },
     "execution_count": 7,
     "metadata": {},
     "output_type": "execute_result"
    }
   ],
   "source": [
    "deployment.predict_unstructured(\n",
    "    {\"question\": \"Why did you donate?\",}\n",
    ")"
   ]
  },
  {
   "cell_type": "code",
   "execution_count": 0,
   "metadata": {
    "application/vnd.databricks.v1+cell": {
     "cellMetadata": {},
     "inputWidgets": {},
     "nuid": "53cf24c9-f791-48df-8df1-49100002afd5",
     "showTitle": false,
     "title": ""
    }
   },
   "outputs": [],
   "source": []
  }
 ],
 "metadata": {
  "application/vnd.databricks.v1+notebook": {
   "dashboards": [],
   "language": "python",
   "notebookMetadata": {
    "pythonIndentUnit": 4
   },
   "notebookName": "dbx_vsi_integration",
   "widgets": {}
  }
 },
 "nbformat": 4,
 "nbformat_minor": 0
}
